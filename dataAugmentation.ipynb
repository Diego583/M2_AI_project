{
 "cells": [
  {
   "attachments": {},
   "cell_type": "markdown",
   "metadata": {},
   "source": [
    "*Este script balancea el numero de imagenes en cada una de las 16 clases tanto del folder train como el de test.\n",
    "Primero se recorren train y test para encontrar la clase con mayor numero de imagenes (mayor numero en train y en test respectivamente).\n",
    "Una vez hecho esto se generan imagenes en cada una de los clases que tengan menos imagenes que la clase encontrada en el paso anterior.\n",
    "Así al teminar de correr el script todas las clases tanto en train tienen el mismo numero de imagenes, y todas las clases en tes tienen el mismo numero de imagenes (el dataset esta dividido aproximadente en 80% train y 20% test).*"
   ]
  },
  {
   "cell_type": "code",
   "execution_count": 3,
   "metadata": {},
   "outputs": [],
   "source": [
    "import os\n",
    "import tensorflow as tf\n",
    "from tensorflow.keras.preprocessing.image import ImageDataGenerator\n",
    "import shutil\n",
    "from PIL import Image, UnidentifiedImageError"
   ]
  },
  {
   "cell_type": "code",
   "execution_count": 4,
   "metadata": {},
   "outputs": [
    {
     "name": "stdout",
     "output_type": "stream",
     "text": [
      "train subfolders:  ['0', '1', '2', '3', '4', '5', '6', '7', '8', '9', 'add', 'dec', 'div', 'eq', 'mul', 'sub', 'x', 'y', 'z']\n",
      "test subfolders:  ['0', '1', '2', '3', '4', '5', '6', '7', '8', '9', 'add', 'dec', 'div', 'eq', 'mul', 'sub', 'x', 'y', 'z']\n"
     ]
    }
   ],
   "source": [
    "# Se generan los paths de los directorios, y se obtienen las listas de los subdirectorios dentro de train y test\n",
    "current_dir = os.getcwd()\n",
    "\n",
    "dataset_path = os.path.join(current_dir, \"dataset\")\n",
    "train_path = os.path.join(current_dir, \"dataset/train\")\n",
    "test_path = os.path.join(current_dir, \"dataset/test\")\n",
    "\n",
    "train_subfolders = [f.name for f in os.scandir(train_path) if f.is_dir()]\n",
    "\n",
    "test_subfolders = [f.name for f in os.scandir(test_path) if f.is_dir()]\n",
    "\n",
    "print(\"train subfolders: \", train_subfolders)\n",
    "print(\"test subfolders: \", test_subfolders)"
   ]
  },
  {
   "cell_type": "code",
   "execution_count": 5,
   "metadata": {},
   "outputs": [
    {
     "name": "stdout",
     "output_type": "stream",
     "text": [
      "max train images:  524\n",
      "max test images:  131\n"
     ]
    }
   ],
   "source": [
    "# Se encuentra la cantidad máxima de imágenes entre todas los subdirectorios de test y train\n",
    "max_train_images = max([len(os.listdir(os.path.join(train_path, subfolder))) for subfolder in train_subfolders])\n",
    "max_test_images = max([len(os.listdir(os.path.join(test_path, subfolder))) for subfolder in test_subfolders])\n",
    "\n",
    "print(\"max train images: \", max_train_images)\n",
    "print(\"max test images: \", max_test_images)"
   ]
  },
  {
   "attachments": {},
   "cell_type": "markdown",
   "metadata": {},
   "source": [
    "*Se configura ImageDataGenerator, las nuevas imagenes generadas solamente tendran variacion en el brillo y en el zoom\n",
    "Se configuró de esta manera ya que al trabajar con simbolos matematicos el girar o cambiar la posicion de la imagen\n",
    "afecta al dataset dedido a que haciendo esto se podria obtener un simbolo diferente, y ensuciaria los datos de la clase.*"
   ]
  },
  {
   "cell_type": "code",
   "execution_count": 6,
   "metadata": {},
   "outputs": [],
   "source": [
    "data_generator = ImageDataGenerator(\n",
    "    rescale=1./255,\n",
    "    brightness_range=[0.8, 1.2],  # Adjusted brightness range\n",
    "    zoom_range=[0.9, 1.1],  # Adjusted zoom range\n",
    "    shear_range=0.0,  # Set shear range to 0\n",
    "    horizontal_flip=False  # Disable horizontal flipping\n",
    ")"
   ]
  },
  {
   "cell_type": "code",
   "execution_count": 7,
   "metadata": {},
   "outputs": [],
   "source": [
    "# Se itera sobtre los subdirectorios de train y se balancea el numero de imagenes\n",
    "for subfolder in train_subfolders:\n",
    "    folder_path = os.path.join(train_path, subfolder)\n",
    "    num_images = len(os.listdir(folder_path))\n",
    "    if num_images < max_train_images:\n",
    "        images = os.listdir(folder_path)\n",
    "        num_generate = max_train_images - num_images\n",
    "        for i in range(num_generate):\n",
    "            img_path = os.path.join(folder_path, images[i % num_images])\n",
    "            try:\n",
    "                img = Image.open(img_path).convert(\"RGB\")\n",
    "                img = tf.keras.preprocessing.image.img_to_array(img)\n",
    "                img = img.reshape((1,) + img.shape)\n",
    "                generated_images = data_generator.flow(\n",
    "                    img,\n",
    "                    batch_size=1,\n",
    "                    save_to_dir=folder_path,\n",
    "                    save_prefix='generated_',\n",
    "                    save_format='jpg'\n",
    "                )\n",
    "                for batch in generated_images:\n",
    "                    break\n",
    "            except (tf.errors.InvalidArgumentError, UnidentifiedImageError):\n",
    "                continue\n",
    "\n"
   ]
  },
  {
   "cell_type": "code",
   "execution_count": 8,
   "metadata": {},
   "outputs": [],
   "source": [
    "# Se itera sobtre los subdirectorios de test y se balancea el numero de imagenes\n",
    "for subfolder in test_subfolders:\n",
    "    folder_path = os.path.join(test_path, subfolder)\n",
    "    num_images = len(os.listdir(folder_path))\n",
    "    if num_images < max_test_images:\n",
    "        images = os.listdir(folder_path)\n",
    "        num_generate = max_test_images - num_images\n",
    "        for i in range(num_generate):\n",
    "            img_path = os.path.join(folder_path, images[i % num_images])\n",
    "            try:\n",
    "                img = Image.open(img_path).convert(\"RGB\")\n",
    "                img = tf.keras.preprocessing.image.img_to_array(img)\n",
    "                img = img.reshape((1,) + img.shape)\n",
    "                generated_images = data_generator.flow(\n",
    "                    img,\n",
    "                    batch_size=1,\n",
    "                    save_to_dir=folder_path,\n",
    "                    save_prefix='generated_',\n",
    "                    save_format='jpg'\n",
    "                )\n",
    "                for batch in generated_images:\n",
    "                    break\n",
    "            except (tf.errors.InvalidArgumentError, UnidentifiedImageError):\n",
    "                continue"
   ]
  },
  {
   "cell_type": "code",
   "execution_count": 9,
   "metadata": {},
   "outputs": [
    {
     "name": "stdout",
     "output_type": "stream",
     "text": [
      "Number of images in each train folder:\n",
      "0: 524 images\n",
      "1: 524 images\n",
      "2: 524 images\n",
      "3: 524 images\n",
      "4: 524 images\n",
      "5: 524 images\n",
      "6: 524 images\n",
      "7: 524 images\n",
      "8: 524 images\n",
      "9: 523 images\n",
      "add: 524 images\n",
      "dec: 524 images\n",
      "div: 524 images\n",
      "eq: 524 images\n",
      "mul: 524 images\n",
      "sub: 524 images\n",
      "x: 524 images\n",
      "y: 524 images\n",
      "z: 524 images\n"
     ]
    }
   ],
   "source": [
    "# Imprime el numero de imagenes en cada folder de train\n",
    "print(\"Number of images in each train folder:\")\n",
    "for subfolder in train_subfolders:\n",
    "    folder_path = os.path.join(train_path, subfolder)\n",
    "    num_images = len(os.listdir(folder_path))\n",
    "    print(f\"{subfolder}: {num_images} images\")"
   ]
  },
  {
   "cell_type": "code",
   "execution_count": 10,
   "metadata": {},
   "outputs": [
    {
     "name": "stdout",
     "output_type": "stream",
     "text": [
      "\n",
      "Number of images in each test folder:\n",
      "0: 131 images\n",
      "1: 131 images\n",
      "2: 131 images\n",
      "3: 131 images\n",
      "4: 131 images\n",
      "5: 131 images\n",
      "6: 131 images\n",
      "7: 131 images\n",
      "8: 131 images\n",
      "9: 131 images\n",
      "add: 131 images\n",
      "dec: 131 images\n",
      "div: 131 images\n",
      "eq: 131 images\n",
      "mul: 131 images\n",
      "sub: 131 images\n",
      "x: 131 images\n",
      "y: 131 images\n",
      "z: 131 images\n"
     ]
    }
   ],
   "source": [
    "# Imprime el numero de imagenes en cada folder de test\n",
    "print(\"\\nNumber of images in each test folder:\")\n",
    "for subfolder in test_subfolders:\n",
    "    folder_path = os.path.join(test_path, subfolder)\n",
    "    num_images = len(os.listdir(folder_path))\n",
    "    print(f\"{subfolder}: {num_images} images\")"
   ]
  }
 ],
 "metadata": {
  "kernelspec": {
   "display_name": "Python 3",
   "language": "python",
   "name": "python3"
  },
  "language_info": {
   "codemirror_mode": {
    "name": "ipython",
    "version": 3
   },
   "file_extension": ".py",
   "mimetype": "text/x-python",
   "name": "python",
   "nbconvert_exporter": "python",
   "pygments_lexer": "ipython3",
   "version": "3.10.4"
  },
  "orig_nbformat": 4
 },
 "nbformat": 4,
 "nbformat_minor": 2
}
